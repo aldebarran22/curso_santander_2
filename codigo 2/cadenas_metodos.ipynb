{
 "cells": [
  {
   "cell_type": "markdown",
   "id": "9c779789",
   "metadata": {},
   "source": [
    "## Métodos sobre cadenas en Python"
   ]
  },
  {
   "cell_type": "code",
   "execution_count": 1,
   "id": "a4bab0c1",
   "metadata": {},
   "outputs": [
    {
     "data": {
      "text/plain": [
       "'hola que tal'"
      ]
     },
     "execution_count": 1,
     "metadata": {},
     "output_type": "execute_result"
    }
   ],
   "source": [
    "s = \"hola que tal\"\n",
    "s"
   ]
  },
  {
   "cell_type": "markdown",
   "id": "1058df35",
   "metadata": {},
   "source": [
    "Buscar letras dentro de una cadena"
   ]
  },
  {
   "cell_type": "code",
   "execution_count": 2,
   "id": "66fe2f5f",
   "metadata": {},
   "outputs": [
    {
     "name": "stdout",
     "output_type": "stream",
     "text": [
      "3\n",
      "10\n"
     ]
    }
   ],
   "source": [
    "print(s.find('a'))\n",
    "print(s.rfind('a'))"
   ]
  },
  {
   "cell_type": "code",
   "execution_count": 3,
   "id": "717d9173",
   "metadata": {},
   "outputs": [
    {
     "name": "stdout",
     "output_type": "stream",
     "text": [
      "3\n",
      "10\n"
     ]
    }
   ],
   "source": [
    "print(s.index('a'))\n",
    "print(s.rindex('a'))"
   ]
  },
  {
   "cell_type": "code",
   "execution_count": 4,
   "id": "2d571cd9",
   "metadata": {},
   "outputs": [
    {
     "name": "stdout",
     "output_type": "stream",
     "text": [
      "-1\n",
      "-1\n"
     ]
    }
   ],
   "source": [
    "print(s.find('x'))\n",
    "print(s.rfind('x'))"
   ]
  },
  {
   "cell_type": "code",
   "execution_count": 5,
   "id": "93d3d26d",
   "metadata": {},
   "outputs": [
    {
     "ename": "ValueError",
     "evalue": "substring not found",
     "output_type": "error",
     "traceback": [
      "\u001b[1;31m---------------------------------------------------------------------------\u001b[0m",
      "\u001b[1;31mValueError\u001b[0m                                Traceback (most recent call last)",
      "\u001b[1;32m<ipython-input-5-585799ec8a4a>\u001b[0m in \u001b[0;36m<module>\u001b[1;34m\u001b[0m\n\u001b[1;32m----> 1\u001b[1;33m \u001b[0mprint\u001b[0m\u001b[1;33m(\u001b[0m\u001b[0ms\u001b[0m\u001b[1;33m.\u001b[0m\u001b[0mindex\u001b[0m\u001b[1;33m(\u001b[0m\u001b[1;34m'x'\u001b[0m\u001b[1;33m)\u001b[0m\u001b[1;33m)\u001b[0m\u001b[1;33m\u001b[0m\u001b[1;33m\u001b[0m\u001b[0m\n\u001b[0m\u001b[0;32m      2\u001b[0m \u001b[0mprint\u001b[0m\u001b[1;33m(\u001b[0m\u001b[0ms\u001b[0m\u001b[1;33m.\u001b[0m\u001b[0mrindex\u001b[0m\u001b[1;33m(\u001b[0m\u001b[1;34m'x'\u001b[0m\u001b[1;33m)\u001b[0m\u001b[1;33m)\u001b[0m\u001b[1;33m\u001b[0m\u001b[1;33m\u001b[0m\u001b[0m\n",
      "\u001b[1;31mValueError\u001b[0m: substring not found"
     ]
    }
   ],
   "source": [
    "print(s.index('x'))\n",
    "print(s.rindex('x'))"
   ]
  },
  {
   "cell_type": "markdown",
   "id": "072f01a8",
   "metadata": {},
   "source": [
    "Dada una cadena de letras localizar las posiciones de la a"
   ]
  },
  {
   "cell_type": "code",
   "execution_count": 12,
   "id": "99b78d80",
   "metadata": {},
   "outputs": [
    {
     "data": {
      "text/plain": [
       "'Dada una cadena de letras localizar las posiciones de la a'"
      ]
     },
     "execution_count": 12,
     "metadata": {},
     "output_type": "execute_result"
    }
   ],
   "source": [
    "s = \"Dada una cadena de letras localizar las posiciones de la a\"\n",
    "s"
   ]
  },
  {
   "cell_type": "code",
   "execution_count": 13,
   "id": "f1c3049b",
   "metadata": {},
   "outputs": [
    {
     "data": {
      "text/plain": [
       "11"
      ]
     },
     "execution_count": 13,
     "metadata": {},
     "output_type": "execute_result"
    }
   ],
   "source": [
    "n = s.count('a')\n",
    "n"
   ]
  },
  {
   "cell_type": "code",
   "execution_count": 14,
   "id": "edd3939a",
   "metadata": {},
   "outputs": [
    {
     "data": {
      "text/plain": [
       "[1, 3, 7, 10, 14, 23, 29, 33, 37, 55, 57]"
      ]
     },
     "execution_count": 14,
     "metadata": {},
     "output_type": "execute_result"
    }
   ],
   "source": [
    "ini = 0\n",
    "L = []\n",
    "for i in range(n):\n",
    "    pos = s.find('a', ini)\n",
    "    L.append(pos)\n",
    "    ini = pos+1\n",
    "L\n",
    "    "
   ]
  },
  {
   "cell_type": "code",
   "execution_count": 15,
   "id": "e39871d6",
   "metadata": {},
   "outputs": [
    {
     "data": {
      "text/plain": [
       "58"
      ]
     },
     "execution_count": 15,
     "metadata": {},
     "output_type": "execute_result"
    }
   ],
   "source": [
    "len(s)"
   ]
  },
  {
   "cell_type": "code",
   "execution_count": 16,
   "id": "ef9aa68e",
   "metadata": {},
   "outputs": [
    {
     "data": {
      "text/plain": [
       "'Dxdx unx cxdenx de letrxs locxlizxr lxs posiciones de lx x'"
      ]
     },
     "execution_count": 16,
     "metadata": {},
     "output_type": "execute_result"
    }
   ],
   "source": [
    "s.replace(\"a\",\"x\")"
   ]
  },
  {
   "cell_type": "code",
   "execution_count": 17,
   "id": "cf5327b5",
   "metadata": {},
   "outputs": [
    {
     "data": {
      "text/plain": [
       "'Dada una cadena de letras localizar las posiciones de la a'"
      ]
     },
     "execution_count": 17,
     "metadata": {},
     "output_type": "execute_result"
    }
   ],
   "source": [
    "s"
   ]
  },
  {
   "cell_type": "code",
   "execution_count": 18,
   "id": "51d300da",
   "metadata": {},
   "outputs": [
    {
     "data": {
      "text/plain": [
       "'Dada Una Cadena De Letras Localizar Las Posiciones De La A'"
      ]
     },
     "execution_count": 18,
     "metadata": {},
     "output_type": "execute_result"
    }
   ],
   "source": [
    "s.title()"
   ]
  },
  {
   "cell_type": "code",
   "execution_count": 20,
   "id": "f260aa39",
   "metadata": {},
   "outputs": [
    {
     "name": "stdout",
     "output_type": "stream",
     "text": [
      "11 es impar\n"
     ]
    }
   ],
   "source": [
    "n = 11\n",
    "print(n, \"es par\" if n%2 == 0 else \"es impar\")"
   ]
  },
  {
   "cell_type": "code",
   "execution_count": null,
   "id": "d70777a0",
   "metadata": {},
   "outputs": [],
   "source": []
  }
 ],
 "metadata": {
  "kernelspec": {
   "display_name": "Python 3 (ipykernel)",
   "language": "python",
   "name": "python3"
  },
  "language_info": {
   "codemirror_mode": {
    "name": "ipython",
    "version": 3
   },
   "file_extension": ".py",
   "mimetype": "text/x-python",
   "name": "python",
   "nbconvert_exporter": "python",
   "pygments_lexer": "ipython3",
   "version": "3.8.5"
  }
 },
 "nbformat": 4,
 "nbformat_minor": 5
}
