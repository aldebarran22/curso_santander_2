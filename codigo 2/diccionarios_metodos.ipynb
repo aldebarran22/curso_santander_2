{
 "cells": [
  {
   "cell_type": "markdown",
   "id": "059f5828",
   "metadata": {},
   "source": [
    "## Métodos de los diccionarios"
   ]
  },
  {
   "cell_type": "code",
   "execution_count": 1,
   "id": "ee3ba1e1",
   "metadata": {},
   "outputs": [
    {
     "name": "stdout",
     "output_type": "stream",
     "text": [
      "hola que tal\n",
      "[0, 1, 2, 3, 4, 5, 6, 7, 8, 9, 10, 11]\n"
     ]
    }
   ],
   "source": [
    "cad = \"hola que tal\"\n",
    "L = list(range(len(cad)))\n",
    "print(cad)\n",
    "print(L)"
   ]
  },
  {
   "cell_type": "code",
   "execution_count": 2,
   "id": "7d9dc935",
   "metadata": {},
   "outputs": [
    {
     "data": {
      "text/plain": [
       "{0: 'h',\n",
       " 1: 'o',\n",
       " 2: 'l',\n",
       " 3: 'a',\n",
       " 4: ' ',\n",
       " 5: 'q',\n",
       " 6: 'u',\n",
       " 7: 'e',\n",
       " 8: ' ',\n",
       " 9: 't',\n",
       " 10: 'a',\n",
       " 11: 'l'}"
      ]
     },
     "execution_count": 2,
     "metadata": {},
     "output_type": "execute_result"
    }
   ],
   "source": [
    "d = dict(zip(L, cad))\n",
    "d"
   ]
  },
  {
   "cell_type": "code",
   "execution_count": 3,
   "id": "4d36f45e",
   "metadata": {},
   "outputs": [
    {
     "name": "stdout",
     "output_type": "stream",
     "text": [
      "[0, 1, 2, 3, 4, 5, 6, 7, 8, 9, 10, 11]\n",
      "['h', 'o', 'l', 'a', ' ', 'q', 'u', 'e', ' ', 't', 'a', 'l']\n",
      "[(0, 'h'), (1, 'o'), (2, 'l'), (3, 'a'), (4, ' '), (5, 'q'), (6, 'u'), (7, 'e'), (8, ' '), (9, 't'), (10, 'a'), (11, 'l')]\n"
     ]
    }
   ],
   "source": [
    "print(list(d.keys()))\n",
    "print(list(d.values()))\n",
    "print(list(d.items()))"
   ]
  },
  {
   "cell_type": "code",
   "execution_count": 5,
   "id": "d194824f",
   "metadata": {},
   "outputs": [
    {
     "data": {
      "text/plain": [
       "{0: 'h',\n",
       " 1: 'o',\n",
       " 2: 'l',\n",
       " 3: 'a',\n",
       " 4: ' ',\n",
       " 5: 'q',\n",
       " 6: 'u',\n",
       " 7: 'e',\n",
       " 8: ' ',\n",
       " 9: 't',\n",
       " 11: 'l'}"
      ]
     },
     "execution_count": 5,
     "metadata": {},
     "output_type": "execute_result"
    }
   ],
   "source": [
    "del(d[10])\n",
    "d"
   ]
  },
  {
   "cell_type": "code",
   "execution_count": 7,
   "id": "f7acdb8b",
   "metadata": {},
   "outputs": [
    {
     "ename": "KeyError",
     "evalue": "15",
     "output_type": "error",
     "traceback": [
      "\u001b[1;31m---------------------------------------------------------------------------\u001b[0m",
      "\u001b[1;31mKeyError\u001b[0m                                  Traceback (most recent call last)",
      "\u001b[1;32m<ipython-input-7-f6ac89ea9e8b>\u001b[0m in \u001b[0;36m<module>\u001b[1;34m\u001b[0m\n\u001b[1;32m----> 1\u001b[1;33m \u001b[0md\u001b[0m\u001b[1;33m[\u001b[0m\u001b[1;36m15\u001b[0m\u001b[1;33m]\u001b[0m\u001b[1;33m\u001b[0m\u001b[1;33m\u001b[0m\u001b[0m\n\u001b[0m",
      "\u001b[1;31mKeyError\u001b[0m: 15"
     ]
    }
   ],
   "source": [
    "d[15]"
   ]
  },
  {
   "cell_type": "code",
   "execution_count": 9,
   "id": "09106319",
   "metadata": {},
   "outputs": [
    {
     "name": "stdout",
     "output_type": "stream",
     "text": [
      "None\n"
     ]
    }
   ],
   "source": [
    "print(d.get(15))"
   ]
  },
  {
   "cell_type": "code",
   "execution_count": 10,
   "id": "374c0429",
   "metadata": {},
   "outputs": [
    {
     "name": "stdout",
     "output_type": "stream",
     "text": [
      "Clave no existe\n"
     ]
    }
   ],
   "source": [
    "print(d.get(15,'Clave no existe'))"
   ]
  },
  {
   "cell_type": "code",
   "execution_count": 11,
   "id": "d23475e1",
   "metadata": {},
   "outputs": [
    {
     "name": "stdout",
     "output_type": "stream",
     "text": [
      "0\n"
     ]
    }
   ],
   "source": [
    "print(d.get(15,0))"
   ]
  },
  {
   "cell_type": "code",
   "execution_count": 12,
   "id": "e5384afa",
   "metadata": {},
   "outputs": [
    {
     "ename": "KeyError",
     "evalue": "15",
     "output_type": "error",
     "traceback": [
      "\u001b[1;31m---------------------------------------------------------------------------\u001b[0m",
      "\u001b[1;31mKeyError\u001b[0m                                  Traceback (most recent call last)",
      "\u001b[1;32m<ipython-input-12-d4ad09b73559>\u001b[0m in \u001b[0;36m<module>\u001b[1;34m\u001b[0m\n\u001b[1;32m----> 1\u001b[1;33m \u001b[0mprint\u001b[0m\u001b[1;33m(\u001b[0m\u001b[0md\u001b[0m\u001b[1;33m.\u001b[0m\u001b[0mpop\u001b[0m\u001b[1;33m(\u001b[0m\u001b[1;36m15\u001b[0m\u001b[1;33m)\u001b[0m\u001b[1;33m)\u001b[0m\u001b[1;33m\u001b[0m\u001b[1;33m\u001b[0m\u001b[0m\n\u001b[0m",
      "\u001b[1;31mKeyError\u001b[0m: 15"
     ]
    }
   ],
   "source": [
    "print(d.pop(15))"
   ]
  },
  {
   "cell_type": "code",
   "execution_count": 13,
   "id": "1d9ecb68",
   "metadata": {},
   "outputs": [
    {
     "name": "stdout",
     "output_type": "stream",
     "text": [
      "Clave no existe\n"
     ]
    }
   ],
   "source": [
    "print(d.pop(15, 'Clave no existe'))"
   ]
  },
  {
   "cell_type": "code",
   "execution_count": 14,
   "id": "4d243be9",
   "metadata": {},
   "outputs": [
    {
     "name": "stdout",
     "output_type": "stream",
     "text": [
      "l\n"
     ]
    }
   ],
   "source": [
    "print(d.pop(11, 'Clave no existe'))"
   ]
  },
  {
   "cell_type": "code",
   "execution_count": 15,
   "id": "9178e793",
   "metadata": {},
   "outputs": [
    {
     "data": {
      "text/plain": [
       "(9, 't')"
      ]
     },
     "execution_count": 15,
     "metadata": {},
     "output_type": "execute_result"
    }
   ],
   "source": [
    "d.popitem()"
   ]
  },
  {
   "cell_type": "code",
   "execution_count": 16,
   "id": "85d44bd9",
   "metadata": {},
   "outputs": [
    {
     "data": {
      "text/plain": [
       "{0: 'h', 1: 'o', 2: 'l', 3: 'a', 4: ' ', 5: 'q', 6: 'u', 7: 'e', 8: ' '}"
      ]
     },
     "execution_count": 16,
     "metadata": {},
     "output_type": "execute_result"
    }
   ],
   "source": [
    "d"
   ]
  },
  {
   "cell_type": "code",
   "execution_count": 17,
   "id": "6c974d23",
   "metadata": {},
   "outputs": [
    {
     "data": {
      "text/plain": [
       "{}"
      ]
     },
     "execution_count": 17,
     "metadata": {},
     "output_type": "execute_result"
    }
   ],
   "source": [
    "d.clear()\n",
    "d"
   ]
  },
  {
   "cell_type": "code",
   "execution_count": 25,
   "id": "1230ca17",
   "metadata": {},
   "outputs": [
    {
     "data": {
      "text/plain": [
       "{'A': 0, 'B': 0, 'C': 0, 'D': 0, 'E': 0}"
      ]
     },
     "execution_count": 25,
     "metadata": {},
     "output_type": "execute_result"
    }
   ],
   "source": [
    "claves = \"ABCDE\"\n",
    "d = dict.fromkeys(claves, 0)\n",
    "d"
   ]
  },
  {
   "cell_type": "code",
   "execution_count": 26,
   "id": "4935c0e1",
   "metadata": {},
   "outputs": [
    {
     "data": {
      "text/plain": [
       "{'A': 20, 'B': 0, 'C': 0, 'D': 0, 'E': 0}"
      ]
     },
     "execution_count": 26,
     "metadata": {},
     "output_type": "execute_result"
    }
   ],
   "source": [
    "d['A']+=20\n",
    "d"
   ]
  },
  {
   "cell_type": "code",
   "execution_count": 19,
   "id": "3769d294",
   "metadata": {},
   "outputs": [
    {
     "data": {
      "text/plain": [
       "{'A': [], 'B': [], 'C': [], 'D': [], 'E': []}"
      ]
     },
     "execution_count": 19,
     "metadata": {},
     "output_type": "execute_result"
    }
   ],
   "source": [
    "d = dict.fromkeys(claves, [])\n",
    "d"
   ]
  },
  {
   "cell_type": "code",
   "execution_count": 20,
   "id": "4bdc9f95",
   "metadata": {},
   "outputs": [
    {
     "data": {
      "text/plain": [
       "{'A': [10], 'B': [10], 'C': [10], 'D': [10], 'E': [10]}"
      ]
     },
     "execution_count": 20,
     "metadata": {},
     "output_type": "execute_result"
    }
   ],
   "source": [
    "d['A'].append(10)\n",
    "d"
   ]
  },
  {
   "cell_type": "code",
   "execution_count": 21,
   "id": "3cafa542",
   "metadata": {},
   "outputs": [
    {
     "data": {
      "text/plain": [
       "{'A': [], 'B': [], 'C': [], 'D': [], 'E': []}"
      ]
     },
     "execution_count": 21,
     "metadata": {},
     "output_type": "execute_result"
    }
   ],
   "source": [
    "d2 = dict()\n",
    "for i in claves:\n",
    "    d2[i] = list()\n",
    "d2"
   ]
  },
  {
   "cell_type": "code",
   "execution_count": 22,
   "id": "3e6e1377",
   "metadata": {},
   "outputs": [
    {
     "data": {
      "text/plain": [
       "{'A': [10], 'B': [], 'C': [], 'D': [], 'E': []}"
      ]
     },
     "execution_count": 22,
     "metadata": {},
     "output_type": "execute_result"
    }
   ],
   "source": [
    "d2['A'].append(10)\n",
    "d2"
   ]
  },
  {
   "cell_type": "code",
   "execution_count": 27,
   "id": "df6536ed",
   "metadata": {},
   "outputs": [
    {
     "data": {
      "text/plain": [
       "{'A': 0, 'B': 0, 'C': 0, 'D': 0, 'E': 0}"
      ]
     },
     "execution_count": 27,
     "metadata": {},
     "output_type": "execute_result"
    }
   ],
   "source": [
    "claves = \"ABCDE\"\n",
    "d = dict.fromkeys(claves, 0)\n",
    "d"
   ]
  },
  {
   "cell_type": "code",
   "execution_count": 28,
   "id": "45368c6c",
   "metadata": {},
   "outputs": [
    {
     "data": {
      "text/plain": [
       "{'A': 100, 'B': 0, 'C': 0, 'D': 0, 'E': 500, 'X': 1000, 'Z': 2000}"
      ]
     },
     "execution_count": 28,
     "metadata": {},
     "output_type": "execute_result"
    }
   ],
   "source": [
    "d2 = {\"A\":100, \"E\":500,\"X\":1000,\"Z\":2000}\n",
    "d.update(d2)\n",
    "d"
   ]
  },
  {
   "cell_type": "code",
   "execution_count": null,
   "id": "f34f2092",
   "metadata": {},
   "outputs": [],
   "source": []
  }
 ],
 "metadata": {
  "kernelspec": {
   "display_name": "Python 3 (ipykernel)",
   "language": "python",
   "name": "python3"
  },
  "language_info": {
   "codemirror_mode": {
    "name": "ipython",
    "version": 3
   },
   "file_extension": ".py",
   "mimetype": "text/x-python",
   "name": "python",
   "nbconvert_exporter": "python",
   "pygments_lexer": "ipython3",
   "version": "3.8.5"
  }
 },
 "nbformat": 4,
 "nbformat_minor": 5
}
