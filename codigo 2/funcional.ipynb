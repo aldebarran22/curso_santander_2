{
 "cells": [
  {
   "cell_type": "markdown",
   "id": "75a9ed2f",
   "metadata": {},
   "source": [
    "## Programación Funcional en Python"
   ]
  },
  {
   "cell_type": "markdown",
   "id": "58ed669a",
   "metadata": {},
   "source": [
    "Iteradores: map, filter, reduce\n",
    "\n",
    "List Comprehesion"
   ]
  },
  {
   "cell_type": "code",
   "execution_count": 1,
   "id": "2de893fa",
   "metadata": {},
   "outputs": [],
   "source": [
    "import random\n",
    "\n",
    "# from modulo import funcion\n",
    "from functools import reduce"
   ]
  },
  {
   "cell_type": "code",
   "execution_count": 2,
   "id": "89ba9048",
   "metadata": {},
   "outputs": [
    {
     "data": {
      "text/plain": [
       "[2, 4, 5, 6, 7, 1, 2]"
      ]
     },
     "execution_count": 2,
     "metadata": {},
     "output_type": "execute_result"
    }
   ],
   "source": [
    "L = [2,4,5,6,7,1,2]\n",
    "L"
   ]
  },
  {
   "cell_type": "code",
   "execution_count": 3,
   "id": "2eccf55a",
   "metadata": {},
   "outputs": [],
   "source": [
    "def cuadrado(n):\n",
    "    return n**2"
   ]
  },
  {
   "cell_type": "code",
   "execution_count": 4,
   "id": "fc381445",
   "metadata": {},
   "outputs": [
    {
     "data": {
      "text/plain": [
       "[4, 16, 25, 36, 49, 1, 4]"
      ]
     },
     "execution_count": 4,
     "metadata": {},
     "output_type": "execute_result"
    }
   ],
   "source": [
    "L2 = list(map(cuadrado, L))\n",
    "L2"
   ]
  },
  {
   "cell_type": "code",
   "execution_count": 5,
   "id": "264147b3",
   "metadata": {},
   "outputs": [
    {
     "data": {
      "text/plain": [
       "[4, 16, 25, 36, 49, 1, 4]"
      ]
     },
     "execution_count": 5,
     "metadata": {},
     "output_type": "execute_result"
    }
   ],
   "source": [
    "L3 = list(map(lambda n:n**2, L))\n",
    "L3"
   ]
  },
  {
   "cell_type": "code",
   "execution_count": 6,
   "id": "7fb21021",
   "metadata": {},
   "outputs": [
    {
     "data": {
      "text/plain": [
       "[4, 16, 25, 36, 49, 1, 4]"
      ]
     },
     "execution_count": 6,
     "metadata": {},
     "output_type": "execute_result"
    }
   ],
   "source": [
    "L4 = [i**2 for i in L]\n",
    "L4"
   ]
  },
  {
   "cell_type": "code",
   "execution_count": 7,
   "id": "c8bc2f4e",
   "metadata": {},
   "outputs": [
    {
     "data": {
      "text/plain": [
       "{1, 4, 16, 25, 36, 49}"
      ]
     },
     "execution_count": 7,
     "metadata": {},
     "output_type": "execute_result"
    }
   ],
   "source": [
    "c = {i**2 for i in L}\n",
    "c"
   ]
  },
  {
   "cell_type": "code",
   "execution_count": 8,
   "id": "776d4b70",
   "metadata": {},
   "outputs": [
    {
     "data": {
      "text/plain": [
       "{2: 4, 4: 16, 5: 25, 6: 36, 7: 49, 1: 1}"
      ]
     },
     "execution_count": 8,
     "metadata": {},
     "output_type": "execute_result"
    }
   ],
   "source": [
    "d = {i:i**2 for i in L}\n",
    "d"
   ]
  },
  {
   "cell_type": "code",
   "execution_count": 9,
   "id": "9a9cafa5",
   "metadata": {},
   "outputs": [
    {
     "data": {
      "text/plain": [
       "[68, 34, 58, 80, 10, 64, 13, 95, 31, 72, 65, 21, 13, 67, 54]"
      ]
     },
     "execution_count": 9,
     "metadata": {},
     "output_type": "execute_result"
    }
   ],
   "source": [
    "L = [random.randint(1,100) for _ in range(15)]\n",
    "L"
   ]
  },
  {
   "cell_type": "code",
   "execution_count": 10,
   "id": "e9ee5b00",
   "metadata": {},
   "outputs": [
    {
     "data": {
      "text/plain": [
       "[68, 58, 64, 65, 67, 54]"
      ]
     },
     "execution_count": 10,
     "metadata": {},
     "output_type": "execute_result"
    }
   ],
   "source": [
    "L2 = list(filter(lambda n: 40<=n<=70, L))\n",
    "L2"
   ]
  },
  {
   "cell_type": "code",
   "execution_count": 11,
   "id": "3989f414",
   "metadata": {},
   "outputs": [
    {
     "data": {
      "text/plain": [
       "[68, 58, 64, 65, 67, 54]"
      ]
     },
     "execution_count": 11,
     "metadata": {},
     "output_type": "execute_result"
    }
   ],
   "source": [
    "L3 = [i for i in L if 40 <= i <= 70 ]\n",
    "L3"
   ]
  },
  {
   "cell_type": "code",
   "execution_count": 12,
   "id": "76207bbf",
   "metadata": {},
   "outputs": [],
   "source": [
    "def freducir(a,b):\n",
    "    print(a,b)\n",
    "    return a if a < b else b"
   ]
  },
  {
   "cell_type": "code",
   "execution_count": 13,
   "id": "43d35f35",
   "metadata": {},
   "outputs": [
    {
     "data": {
      "text/plain": [
       "[68, 34, 58, 80, 10, 64, 13, 95, 31, 72, 65, 21, 13, 67, 54]"
      ]
     },
     "execution_count": 13,
     "metadata": {},
     "output_type": "execute_result"
    }
   ],
   "source": [
    "L"
   ]
  },
  {
   "cell_type": "code",
   "execution_count": 14,
   "id": "41f825bb",
   "metadata": {},
   "outputs": [
    {
     "name": "stdout",
     "output_type": "stream",
     "text": [
      "68 34\n",
      "34 58\n",
      "34 80\n",
      "34 10\n",
      "10 64\n",
      "10 13\n",
      "10 95\n",
      "10 31\n",
      "10 72\n",
      "10 65\n",
      "10 21\n",
      "10 13\n",
      "10 67\n",
      "10 54\n",
      "10\n"
     ]
    }
   ],
   "source": [
    "print(reduce(freducir, L))"
   ]
  },
  {
   "cell_type": "code",
   "execution_count": null,
   "id": "2cda748b",
   "metadata": {},
   "outputs": [],
   "source": []
  }
 ],
 "metadata": {
  "kernelspec": {
   "display_name": "Python 3 (ipykernel)",
   "language": "python",
   "name": "python3"
  },
  "language_info": {
   "codemirror_mode": {
    "name": "ipython",
    "version": 3
   },
   "file_extension": ".py",
   "mimetype": "text/x-python",
   "name": "python",
   "nbconvert_exporter": "python",
   "pygments_lexer": "ipython3",
   "version": "3.8.5"
  }
 },
 "nbformat": 4,
 "nbformat_minor": 5
}
